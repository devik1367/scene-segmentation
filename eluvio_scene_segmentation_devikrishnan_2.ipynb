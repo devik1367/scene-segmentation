{
  "nbformat": 4,
  "nbformat_minor": 0,
  "metadata": {
    "accelerator": "TPU",
    "colab": {
      "name": "eluvio-scene-segmentation-devikrishnan-2.ipynb",
      "provenance": [],
      "collapsed_sections": []
    },
    "kernelspec": {
      "display_name": "Python 3",
      "name": "python3"
    }
  },
  "cells": [
    {
      "cell_type": "code",
      "metadata": {
        "id": "R89xhLxzlhmn"
      },
      "source": [
        "# uncomment the below line of code to install dependencies the first time the script is run\n",
        "# !pip install numpy scipy pandas scikit-learn"
      ],
      "execution_count": 1,
      "outputs": []
    },
    {
      "cell_type": "code",
      "metadata": {
        "id": "tHalnXAaZAny"
      },
      "source": [
        "# imports\n",
        "import pandas as pd\n",
        "import pickle\n",
        "import glob\n",
        "import numpy as np\n",
        "from sklearn import *\n",
        "import tensorflow as tf"
      ],
      "execution_count": 2,
      "outputs": []
    },
    {
      "cell_type": "code",
      "metadata": {
        "colab": {
          "base_uri": "https://localhost:8080/"
        },
        "id": "E0SW8ScunBIq",
        "outputId": "f03ac194-3e95-4e04-afd1-38adfc292eb8"
      },
      "source": [
        "from google.colab import drive\n",
        "drive.mount('/content/drive')"
      ],
      "execution_count": 3,
      "outputs": [
        {
          "output_type": "stream",
          "text": [
            "Drive already mounted at /content/drive; to attempt to forcibly remount, call drive.mount(\"/content/drive\", force_remount=True).\n"
          ],
          "name": "stdout"
        }
      ]
    },
    {
      "cell_type": "code",
      "metadata": {
        "id": "WKYiVuLNZCQz",
        "colab": {
          "base_uri": "https://localhost:8080/"
        },
        "outputId": "3c6d3c7b-c128-4345-dfb2-5d3b9173a03b"
      },
      "source": [
        "# read data\n",
        "data_path = \"/content/drive/My Drive/Colab_Notebooks/Eluvio/data/\"     # to reproduce, change the data path \n",
        "model_path = \"/content/drive/My Drive/Colab_Notebooks/Eluvio/\"         # to save model to file later\n",
        "filenames = glob.glob(data_path+\"*.pkl\")\n",
        "unpickled_data = []\n",
        "\n",
        "for f in filenames:\n",
        "  unpickled_data.append(pickle.load(open(f, \"rb\")))\n",
        "\n",
        "# look at data\n",
        "print(type(unpickled_data[0]))\n",
        "print(\"imdb_id: {}\\n\".format(unpickled_data[0]['imdb_id']))\n",
        "print(\"place: {}\\n\".format(unpickled_data[0]['place']))\n",
        "print(\"cast: {}\\n\".format(unpickled_data[0]['cast']))\n",
        "print(\"action: {}\\n\".format(unpickled_data[0]['action']))\n",
        "print(\"audio: {}\\n\".format(unpickled_data[0]['audio']))\n",
        "print(\"scene_transition_boundary_ground_truth: {}\\n\".format(unpickled_data[0]['scene_transition_boundary_ground_truth']))\n",
        "print(\"scene_transition_boundary_prediction: {}\\n\\n\".format(unpickled_data[0]['scene_transition_boundary_prediction']))\n",
        "print(\"scene_transition_boundary_ground_truth.shape: {}\\n\".format(unpickled_data[0]['scene_transition_boundary_ground_truth'].shape))"
      ],
      "execution_count": 4,
      "outputs": [
        {
          "output_type": "stream",
          "text": [
            "<class 'dict'>\n",
            "imdb_id: tt0052357\n",
            "\n",
            "place: tensor([[6.1556e-02, 1.0177e-01, 5.2085e-02,  ..., 6.7148e-02, 1.5965e-03,\n",
            "         9.5967e-03],\n",
            "        [5.2110e-02, 1.3152e-01, 4.7641e-02,  ..., 7.6565e-02, 1.4197e-03,\n",
            "         1.1087e-02],\n",
            "        [8.7748e-02, 2.4885e+00, 5.4332e-02,  ..., 7.1745e-01, 8.1299e-01,\n",
            "         3.3096e-01],\n",
            "        ...,\n",
            "        [1.2349e-01, 4.4957e-01, 2.4556e-01,  ..., 1.0015e-02, 1.1907e-01,\n",
            "         5.1556e-03],\n",
            "        [1.9621e-02, 7.2868e-01, 2.4324e-01,  ..., 7.4836e-03, 3.7045e-02,\n",
            "         7.4661e-02],\n",
            "        [1.2028e-01, 2.9355e-01, 7.4574e-02,  ..., 4.0226e-02, 7.1149e-02,\n",
            "         1.5697e-01]])\n",
            "\n",
            "cast: tensor([[ 0.0000,  0.0000,  0.0000,  ...,  0.0000,  0.0000,  0.0000],\n",
            "        [ 0.0000,  0.0000,  0.0000,  ...,  0.0000,  0.0000,  0.0000],\n",
            "        [ 0.0000,  0.0000,  0.0000,  ..., -0.0073,  0.1230, -0.0396],\n",
            "        ...,\n",
            "        [ 0.0000,  0.0000,  0.0000,  ..., -0.0309,  0.1172, -0.0647],\n",
            "        [ 0.0000,  0.0000,  0.0000,  ..., -0.0290,  0.0804,  0.0003],\n",
            "        [ 0.0000,  0.0000,  0.0000,  ...,  0.0000,  0.0000,  0.0000]])\n",
            "\n",
            "action: tensor([[0.0000, 0.0000, 0.0000,  ..., 0.0000, 0.0000, 0.0000],\n",
            "        [0.0000, 0.0000, 0.0000,  ..., 0.0000, 0.0000, 0.0000],\n",
            "        [0.0000, 5.5101, 0.0000,  ..., 0.0000, 0.0132, 3.0242],\n",
            "        ...,\n",
            "        [0.0000, 5.7000, 0.0000,  ..., 0.0000, 0.0000, 0.1954],\n",
            "        [0.0000, 4.5412, 0.0000,  ..., 0.0000, 0.1389, 1.3127],\n",
            "        [0.0000, 0.0000, 0.0000,  ..., 0.0000, 0.0000, 0.0000]])\n",
            "\n",
            "audio: tensor([[-0.0993, -0.0711, -0.0708,  ..., -0.0829, -0.0911, -0.1051],\n",
            "        [-0.0943, -0.0590, -0.0602,  ..., -0.0682, -0.0753, -0.0831],\n",
            "        [-0.0442, -0.0324, -0.0318,  ..., -0.0332, -0.0386, -0.0454],\n",
            "        ...,\n",
            "        [ 0.0216, -0.0060, -0.0127,  ..., -0.0135, -0.0496, -0.0513],\n",
            "        [-0.0800, -0.0120, -0.0191,  ..., -0.0272, -0.0592, -0.0654],\n",
            "        [-0.1281, -0.0604, -0.0645,  ..., -0.0776, -0.0705, -0.0774]])\n",
            "\n",
            "scene_transition_boundary_ground_truth: tensor([False, False, False,  ..., False, False,  True])\n",
            "\n",
            "scene_transition_boundary_prediction: tensor([0.0000, 0.0000, 0.4878,  ..., 0.0000, 0.0000, 0.0000],\n",
            "       dtype=torch.float16)\n",
            "\n",
            "\n",
            "scene_transition_boundary_ground_truth.shape: torch.Size([1100])\n",
            "\n"
          ],
          "name": "stdout"
        }
      ]
    },
    {
      "cell_type": "code",
      "metadata": {
        "colab": {
          "base_uri": "https://localhost:8080/"
        },
        "id": "GYP-IlPQilkZ",
        "outputId": "4d70499d-c94f-489b-e573-c25c74b1678e"
      },
      "source": [
        "print(\"scene_transition_boundary_prediction.shape: {}\\n\\n\".format(unpickled_data[0]['scene_transition_boundary_prediction'].shape))"
      ],
      "execution_count": 18,
      "outputs": [
        {
          "output_type": "stream",
          "text": [
            "scene_transition_boundary_prediction.shape: torch.Size([1100])\n",
            "\n",
            "\n"
          ],
          "name": "stdout"
        }
      ]
    },
    {
      "cell_type": "code",
      "metadata": {
        "colab": {
          "base_uri": "https://localhost:8080/"
        },
        "id": "eO8UiLrBnMOd",
        "outputId": "ee87a8d6-8a20-486b-cd9b-165a340e0868"
      },
      "source": [
        "# pre-process features/target attribute so they're in the correct format for feeding into our neural network model\n",
        "# num_data_files = len(unpickled_data)    \n",
        "\n",
        "# print(len(filenames))\n",
        "# print(len(filenames[:45]))\n",
        "# print(len(filenames[45:]))\n",
        "\n",
        "def preprocess_features(list_of_filenames):\n",
        "  j = 0\n",
        "  for i in range(len(list_of_filenames)):\n",
        "    # read file\n",
        "    inp_file = open(list_of_filenames[i], \"rb\")\n",
        "    datafile = pickle.load(inp_file)\n",
        "    inp_file.close()\n",
        "\n",
        "    ft1, ft2, ft3, ft4 = datafile['place'].data.numpy(), datafile['cast'].data.numpy(), datafile['action'].data.numpy(), datafile['audio'].data.numpy()\n",
        "    x = np.hstack((ft1, ft2, ft3, ft4))                       # features\n",
        "    y = datafile['scene_transition_boundary_ground_truth']    \n",
        "\n",
        "    # pre-process features\n",
        "    scaler = preprocessing.MinMaxScaler().fit(x)\n",
        "    x_transformed = scaler.transform(x)\n",
        "\n",
        "    x_fold = np.zeros((x.shape[0] - 1, 2*x.shape[1]))\n",
        "    for i in range(x.shape[0] - 1):\n",
        "      x_fold[i,:] = np.hstack((x_transformed[i,:], x_transformed[i+1,:]))\n",
        "\n",
        "    if j==0:\n",
        "      X = x_fold\n",
        "      Y = y\n",
        "    else:\n",
        "      X = np.concatenate((X, x_fold), axis=0)\n",
        "      Y = np.concatenate((Y, y), axis=0)\n",
        "    j += 1\n",
        "  return X, Y\n",
        "\n",
        "\n",
        "# split data into train and test sets - I'm using 70/30 for train/test; 70% of 64 is 44.8 so I rounded up to 45\n",
        "X_train, y_train = preprocess_features(filenames[:45])\n",
        "X_test, y_test = preprocess_features(filenames[45:])\n",
        "\n",
        "print(\"X_train.shape: {}\\n\".format(X_train.shape))\n",
        "print(\"y_train.shape: {}\\n\".format(y_train.shape))\n",
        "print(\"X_test.shape: {}\\n\".format(X_test.shape))\n",
        "print(\"y_test.shape: {}\\n\".format(y_test.shape))"
      ],
      "execution_count": 5,
      "outputs": [
        {
          "output_type": "stream",
          "text": [
            "X_train.shape: (70480, 7168)\n",
            "\n",
            "y_train.shape: (70480,)\n",
            "\n",
            "X_test.shape: (35497, 7168)\n",
            "\n",
            "y_test.shape: (35497,)\n",
            "\n"
          ],
          "name": "stdout"
        }
      ]
    },
    {
      "cell_type": "code",
      "metadata": {
        "colab": {
          "base_uri": "https://localhost:8080/",
          "height": 312
        },
        "id": "F5XieTyy7Z7v",
        "outputId": "5974cd6b-9c63-4c9a-fd05-6b2dac6cebbc"
      },
      "source": [
        " # convert target attribute to 0/1 instead of False/True since the final predictions will be in integer form\n",
        "def convert_labels(Y):\n",
        "  Y_converted = np.zeros((Y.shape[0]), dtype = np.uint8)\n",
        "  for i in range(Y.shape[0]):\n",
        "      if Y[i]==True:\n",
        "          Y_converted[i] = 1\n",
        "      else:\n",
        "          Y_converted[i] = 0\n",
        "  return Y_converted\n",
        "\n",
        "# convert both train and test labels\n",
        "y_train_converted = convert_labels(y_train)\n",
        "y_test_converted = convert_labels(y_test)\n",
        "\n",
        "# plot distribution of target variable: train\n",
        "target_df = pd.DataFrame(y_train_converted, columns=['scene_transition_boundary_ground_truth'])\n",
        "print(target_df['scene_transition_boundary_ground_truth'].value_counts().plot(kind='bar', title=\"Distribution of scene_transition_boundary_ground_truth in y_train\"))\n",
        "# plot distribution of target variable: test\n",
        "target_df = pd.DataFrame(y_test_converted, columns=['scene_transition_boundary_ground_truth'])\n",
        "print(target_df['scene_transition_boundary_ground_truth'].value_counts().plot(kind='bar', title=\"Distribution of scene_transition_boundary_ground_truth in y_test\"))"
      ],
      "execution_count": 6,
      "outputs": [
        {
          "output_type": "stream",
          "text": [
            "AxesSubplot(0.125,0.125;0.775x0.755)\n",
            "AxesSubplot(0.125,0.125;0.775x0.755)\n"
          ],
          "name": "stdout"
        },
        {
          "output_type": "display_data",
          "data": {
            "image/png": "[encoded data removed]",
            "text/plain": [
              "<Figure size 432x288 with 1 Axes>"
            ]
          },
          "metadata": {
            "tags": [],
            "needs_background": "light"
          }
        }
      ]
    },
    {
      "cell_type": "code",
      "metadata": {
        "colab": {
          "base_uri": "https://localhost:8080/"
        },
        "id": "c7raSMNVeFt5",
        "outputId": "4c0132e6-79c8-48a2-da80-cca9847835f5"
      },
      "source": [
        "# evaluate preliminary predictions\n",
        "# to reproduce, change directory to the directory where your data directory is\n",
        "%cd /content/drive/MyDrive/Colab_Notebooks/Eluvio/   \n",
        "!python evaluate_sceneseg.py data/"
      ],
      "execution_count": 8,
      "outputs": [
        {
          "output_type": "stream",
          "text": [
            "/content/drive/MyDrive/Colab_Notebooks/Eluvio\n",
            "# of IMDB IDs: 64\n",
            "Scores: {\n",
            "    \"AP\": 0.4418872028438688,\n",
            "    \"mAP\": 0.45644015956781614,\n",
            "    \"Miou\": 0.4541480053002175,\n",
            "    \"Precision\": 0.2761656092479825,\n",
            "    \"Recall\": 0.7473442326299846,\n",
            "    \"F1\": 0.39309552999275693\n",
            "}\n"
          ],
          "name": "stdout"
        }
      ]
    },
    {
      "cell_type": "markdown",
      "metadata": {
        "id": "zBnmo0uPoE3K"
      },
      "source": [
        ""
      ]
    },
    {
      "cell_type": "code",
      "metadata": {
        "id": "r80wTEEXlJIC"
      },
      "source": [
        "from numpy import loadtxt\n",
        "from keras.models import Sequential, save_model, load_model\n",
        "from keras.layers import Dense"
      ],
      "execution_count": 9,
      "outputs": []
    },
    {
      "cell_type": "code",
      "metadata": {
        "id": "jcyXA-BA2a9Z"
      },
      "source": [
        "# define the keras model\n",
        "model = Sequential()\n",
        "model.add(Dense(12, input_dim=X_train.shape[1], activation='relu'))\n",
        "model.add(Dense(8, activation='relu'))\n",
        "model.add(Dense(1, activation='sigmoid'))\n",
        "# compile the keras model\n",
        "model.compile(loss='binary_crossentropy', optimizer='adam', metrics=['accuracy'])\n",
        "# fit the keras model on the dataset\n",
        "model.fit(x=X_train, y=y_train_converted, epochs=50)\n",
        "# evaluate the keras model\n",
        "_, accuracy = model.evaluate(X_train, y_train_converted, verbose=0)\n",
        "print('Accuracy: %.2f' % (accuracy*100))"
      ],
      "execution_count": 10,
      "outputs": []
    },
    {
      "cell_type": "code",
      "metadata": {
        "colab": {
          "base_uri": "https://localhost:8080/",
          "height": 181
        },
        "id": "oTKaaZJ3lagE",
        "outputId": "204f4c2a-6a79-4823-9689-7758c1c1b7e4"
      },
      "source": [
        "# save model to file\n",
        "# save_model(model, model_path+\"seq_model_2.h5\")"
      ],
      "execution_count": 11,
      "outputs": [
        {
          "output_type": "error",
          "ename": "NameError",
          "evalue": "ignored",
          "traceback": [
            "\u001b[0;31m---------------------------------------------------------------------------\u001b[0m",
            "\u001b[0;31mNameError\u001b[0m                                 Traceback (most recent call last)",
            "\u001b[0;32m<ipython-input-11-25e424f0db7a>\u001b[0m in \u001b[0;36m<module>\u001b[0;34m()\u001b[0m\n\u001b[1;32m      1\u001b[0m \u001b[0;31m# save model to file\u001b[0m\u001b[0;34m\u001b[0m\u001b[0;34m\u001b[0m\u001b[0;34m\u001b[0m\u001b[0m\n\u001b[0;32m----> 2\u001b[0;31m \u001b[0msave_model\u001b[0m\u001b[0;34m(\u001b[0m\u001b[0mmodel\u001b[0m\u001b[0;34m,\u001b[0m \u001b[0mmodel_path\u001b[0m\u001b[0;34m+\u001b[0m\u001b[0;34m\"seq_model_2.h5\"\u001b[0m\u001b[0;34m)\u001b[0m\u001b[0;34m\u001b[0m\u001b[0;34m\u001b[0m\u001b[0m\n\u001b[0m",
            "\u001b[0;31mNameError\u001b[0m: name 'model' is not defined"
          ]
        }
      ]
    },
    {
      "cell_type": "code",
      "metadata": {
        "id": "7Fxrnnwh4THA"
      },
      "source": [
        "# load model from file\n",
        "model = load_model(model_path+\"seq_model_2.h5\")\n",
        "# make probability predictions with the model\n",
        "predictions = model.predict(X_test)\n",
        "# round predictions \n",
        "# y_pred = [round(x[0]) for x in predictions]"
      ],
      "execution_count": 12,
      "outputs": []
    },
    {
      "cell_type": "code",
      "metadata": {
        "colab": {
          "base_uri": "https://localhost:8080/"
        },
        "id": "VpKry5aTiIWP",
        "outputId": "7965161c-8d91-42b8-8d10-1283860cd581"
      },
      "source": [
        "print(\"type(predictions): {}\".format(type(predictions)))\n",
        "print(\"predictions.shape: {}\".format(predictions.shape))\n",
        "print(predictions)"
      ],
      "execution_count": 17,
      "outputs": [
        {
          "output_type": "stream",
          "text": [
            "type(predictions): <class 'numpy.ndarray'>\n",
            "predictions.shape: (35497, 1)\n",
            "[[0.03319377]\n",
            " [0.02613917]\n",
            " [0.00671345]\n",
            " ...\n",
            " [0.04637426]\n",
            " [0.30535126]\n",
            " [0.40110606]]\n"
          ],
          "name": "stdout"
        }
      ]
    },
    {
      "cell_type": "code",
      "metadata": {
        "id": "L2JazOym7xEi"
      },
      "source": [
        "# save predictions to .pkl files similar to the input files so we can run the metrics\n",
        "# fields needed for evaluation are \"scene_transition_boundary_ground_truth\", \"scene_transition_boundary_prediction\", \"shot_end_frame\", \"imdb_id\"\n",
        "for i in range(len(filenames)):\n",
        "  infile = open(filenames[i], \"rb\")\n",
        "  datafile = pickle.load(infile)\n",
        "  infile.close()\n",
        "  # eval_features = [\"scene_transition_boundary_ground_truth\", \"scene_transition_boundary_prediction\", \"shot_end_frame\", \"imdb_id\"]\n",
        "  # convert ground truth and predicitons to tensor format\n",
        "  # gt = tf.convert_to_tensor(datafile[\"scene_transition_boundary_ground_truth\"].data.numpy(), np.float32)\n",
        "  # pred = tf.convert_to_tensor(y_pred, np.float32)\n",
        "  eval_dict = dict([\n",
        "      (\"scene_transition_boundary_ground_truth\", datafile[\"scene_transition_boundary_ground_truth\"].data.numpy()),\n",
        "      (\"scene_transition_boundary_prediction\", predictions),\n",
        "      (\"shot_end_frame\", datafile[\"shot_end_frame\"].data.numpy()),\n",
        "      (\"imdb_id\", datafile[\"imdb_id\"])\n",
        "  ])\n",
        "  # write eval_dict to .pkl file\n",
        "  with open(data_path+\"outs/\"+datafile[\"imdb_id\"]+\".pkl\", \"wb\") as f:\n",
        "    pickle.dump(eval_dict, f)"
      ],
      "execution_count": 15,
      "outputs": []
    },
    {
      "cell_type": "code",
      "metadata": {
        "colab": {
          "base_uri": "https://localhost:8080/"
        },
        "id": "igq2ciEVB1TQ",
        "outputId": "3687af97-c28f-4fc5-9310-aba5165d6156"
      },
      "source": [
        "# check that the output files were created correctly\n",
        "check_file = open(data_path+\"outs/tt0112573.pkl\", \"rb\")\n",
        "check_outs = pickle.load(check_file)\n",
        "check_file.close()\n",
        "print(type(check_outs))\n",
        "print(\"imdb_id: {}\\n\".format(check_outs['imdb_id']))\n",
        "print(\"scene_transition_boundary_ground_truth: {}\\n\".format(check_outs['scene_transition_boundary_ground_truth']))\n",
        "print(\"scene_transition_boundary_prediction: {}\\n\\n\".format(check_outs['scene_transition_boundary_prediction']))\n",
        "print(\"scene_transition_boundary_ground_truth.shape: {}\\n\".format(check_outs['scene_transition_boundary_ground_truth'].shape))\n",
        "print(\"scene_transition_boundary_prediction.shape: {}\\n\".format(check_outs['scene_transition_boundary_prediction'].shape))"
      ],
      "execution_count": 21,
      "outputs": [
        {
          "output_type": "stream",
          "text": [
            "<class 'dict'>\n",
            "imdb_id: tt0112573\n",
            "\n",
            "scene_transition_boundary_ground_truth: [False  True  True ... False False False]\n",
            "\n",
            "scene_transition_boundary_prediction: [[0.03319377]\n",
            " [0.02613917]\n",
            " [0.00671345]\n",
            " ...\n",
            " [0.04637426]\n",
            " [0.30535126]\n",
            " [0.40110606]]\n",
            "\n",
            "\n",
            "scene_transition_boundary_ground_truth.shape: (3095,)\n",
            "\n",
            "scene_transition_boundary_prediction.shape: (35497, 1)\n",
            "\n"
          ],
          "name": "stdout"
        }
      ]
    },
    {
      "cell_type": "code",
      "metadata": {
        "id": "IXHR613nmanB"
      },
      "source": [
        "# evaluate performance of generated predictions\n",
        "%cd /content/drive/MyDrive/Colab_Notebooks/Eluvio/  \n",
        "!python evaluate_sceneseg.py data/outs/"
      ],
      "execution_count": null,
      "outputs": []
    },
    {
      "cell_type": "markdown",
      "metadata": {
        "id": "nfaXs47mpaGW"
      },
      "source": [
        "20 epochs:\n",
        "Scores: {\n",
        "    \"AP\": 0.4418872028438688,\n",
        "    \"mAP\": 0.45644015956781614,\n",
        "    \"Miou\": 0.4541480053002175,\n",
        "    \"Precision\": 0.2761656092479825,\n",
        "    \"Recall\": 0.7473442326299846,\n",
        "    \"F1\": 0.39309552999275693\n",
        "}\n",
        "\n",
        "50 epochs: "
      ]
    }
  ]
}